{
 "cells": [
  {
   "cell_type": "code",
   "execution_count": 2,
   "metadata": {
    "collapsed": true
   },
   "outputs": [],
   "source": [
    "import tensorflow as tf\n",
    "import numpy as np"
   ]
  },
  {
   "cell_type": "markdown",
   "metadata": {},
   "source": [
    "# Constants"
   ]
  },
  {
   "cell_type": "code",
   "execution_count": 7,
   "metadata": {
    "collapsed": true
   },
   "outputs": [],
   "source": [
    "a = tf.constant(1)\n",
    "b = tf.constant(2)\n",
    "c = tf.add(a,b)"
   ]
  },
  {
   "cell_type": "code",
   "execution_count": 8,
   "metadata": {
    "collapsed": false
   },
   "outputs": [
    {
     "name": "stdout",
     "output_type": "stream",
     "text": [
      "<class 'numpy.int32'>\n",
      "3\n"
     ]
    }
   ],
   "source": [
    "with tf.Session() as sess:\n",
    "    result = sess.run(c)\n",
    "\n",
    "print(type(result))\n",
    "print(result)"
   ]
  },
  {
   "cell_type": "code",
   "execution_count": 9,
   "metadata": {
    "collapsed": false
   },
   "outputs": [
    {
     "name": "stdout",
     "output_type": "stream",
     "text": [
      "<class 'tensorflow.python.framework.ops.Tensor'>\n",
      "<class 'tensorflow.python.framework.ops.Tensor'>\n",
      "<class 'tensorflow.python.framework.ops.Tensor'>\n",
      "() int32\n"
     ]
    }
   ],
   "source": [
    "print(type(a))\n",
    "print(type(b))\n",
    "print(type(c))\n",
    "print(result.shape, result.dtype)"
   ]
  },
  {
   "cell_type": "code",
   "execution_count": 10,
   "metadata": {
    "collapsed": false
   },
   "outputs": [
    {
     "name": "stdout",
     "output_type": "stream",
     "text": [
      "<class 'list'>\n",
      "<class 'numpy.ndarray'> (2,) <U21\n",
      "<class 'numpy.ndarray'> (2,) int64\n"
     ]
    }
   ],
   "source": [
    "a = [1,'a']\n",
    "_a = np.array([1, \"a\"])\n",
    "_b = np.array([1,2], dtype=np.int64)\n",
    "\n",
    "print(type(a))\n",
    "print(type(_a), _a.shape, _a.dtype)\n",
    "print(type(_b), _b.shape, _b.dtype)"
   ]
  },
  {
   "cell_type": "markdown",
   "metadata": {},
   "source": [
    "# Array"
   ]
  },
  {
   "cell_type": "code",
   "execution_count": null,
   "metadata": {
    "collapsed": true
   },
   "outputs": [],
   "source": [
    "_b = np.array([1, \"a\"], dtype=np.int32) # error"
   ]
  },
  {
   "cell_type": "code",
   "execution_count": 12,
   "metadata": {
    "collapsed": false
   },
   "outputs": [
    {
     "name": "stdout",
     "output_type": "stream",
     "text": [
      "[[1 2]\n",
      " [3 4]]\n"
     ]
    }
   ],
   "source": [
    "_x = [[1,2], [3,4]]\n",
    "x = tf.convert_to_tensor(_x)\n",
    "with tf.Session() as sess:\n",
    "    # sess.run(pl_) # error occur\n",
    "    print(sess.run(x))"
   ]
  },
  {
   "cell_type": "markdown",
   "metadata": {},
   "source": [
    "# Placeholder"
   ]
  },
  {
   "cell_type": "code",
   "execution_count": 3,
   "metadata": {
    "collapsed": false
   },
   "outputs": [],
   "source": [
    "pl_ = tf.placeholder(tf.float32) # any shape\n",
    "pl0 = tf.placeholder(tf.float32, []) # 0-D\n",
    "pl1 = tf.placeholder(tf.int32, [None]) # 1-D\n",
    "pl2 = tf.placeholder(tf.int32, [None, 3]) #2-D"
   ]
  },
  {
   "cell_type": "code",
   "execution_count": 53,
   "metadata": {
    "collapsed": false
   },
   "outputs": [
    {
     "name": "stdout",
     "output_type": "stream",
     "text": [
      "[2 3 4]\n"
     ]
    }
   ],
   "source": [
    "with tf.Session() as sess:\n",
    "    # 01. error occur : placeholder is empty\n",
    "    # sess.run(pl1) \n",
    "    \n",
    "    # 02. assign the ops\n",
    "    y = pl1 + 1  # same opertion (override operation)\n",
    "    # y = tf.add(pl1, 1)\n",
    "  \n",
    "    # 03. calculate the operations and dictionary assignment\n",
    "    x = np.array([1,2,3], dtype=np.int32)\n",
    "    print(sess.run(y, {pl1 : x}))"
   ]
  },
  {
   "cell_type": "markdown",
   "metadata": {},
   "source": [
    "#  Zero, Ones"
   ]
  },
  {
   "cell_type": "code",
   "execution_count": 32,
   "metadata": {
    "collapsed": false
   },
   "outputs": [
    {
     "data": {
      "text/plain": [
       "array([[ 1.,  1.,  1.],\n",
       "       [ 1.,  1.,  1.]])"
      ]
     },
     "execution_count": 32,
     "metadata": {},
     "output_type": "execute_result"
    }
   ],
   "source": [
    "_ones = np.ones([2,3])\n",
    "_ones"
   ]
  },
  {
   "cell_type": "code",
   "execution_count": 33,
   "metadata": {
    "collapsed": false
   },
   "outputs": [
    {
     "name": "stdout",
     "output_type": "stream",
     "text": [
      "[[ 0.  0.]\n",
      " [ 0.  0.]]\n",
      "[[0 0]\n",
      " [0 0]]\n"
     ]
    }
   ],
   "source": [
    "zero = np.zeros([2,2])\n",
    "_x = np.array([[1,2], [3,4]])\n",
    "_zero = np.zeros_like(_x)\n",
    "\n",
    "print(zero)\n",
    "print(_zero)"
   ]
  },
  {
   "cell_type": "code",
   "execution_count": 34,
   "metadata": {
    "collapsed": false
   },
   "outputs": [
    {
     "name": "stdout",
     "output_type": "stream",
     "text": [
      "[[ 0.  0.  0.]\n",
      " [ 0.  0.  0.]]\n",
      "Tensor(\"zeros_1:0\", shape=(2, 3), dtype=float32)\n",
      "[[ 0.  0.  0.]\n",
      " [ 0.  0.  0.]]\n"
     ]
    }
   ],
   "source": [
    "X = tf.zeros([2,3])\n",
    "with tf.Session() as sess:\n",
    "    print(X.eval())\n",
    "    result = sess.run(X)\n",
    "\n",
    "print(X)    \n",
    "print(result)\n",
    "\n",
    "# print(X.eval())  # error : sessions needed"
   ]
  },
  {
   "cell_type": "markdown",
   "metadata": {},
   "source": [
    "# Vectors"
   ]
  },
  {
   "cell_type": "code",
   "execution_count": 35,
   "metadata": {
    "collapsed": false
   },
   "outputs": [
    {
     "name": "stdout",
     "output_type": "stream",
     "text": [
      "[   0.   25.   50.   75.  100.]\n",
      "[0 2 4 6 8]\n",
      "[[5 5]\n",
      " [5 5]\n",
      " [5 5]]\n"
     ]
    }
   ],
   "source": [
    "_v1 = np.linspace(0, 100, 5)\n",
    "_v2 = np.arange(0, 10, 2)\n",
    "_v3 = np.zeros([3,2], dtype=np.int32)\n",
    "_v3.fill(5)\n",
    "print(_v1)\n",
    "print(_v2)\n",
    "print(_v3)"
   ]
  },
  {
   "cell_type": "code",
   "execution_count": 36,
   "metadata": {
    "collapsed": true
   },
   "outputs": [],
   "source": [
    "v1 = tf.linspace(0., 10, 5)\n",
    "# v1 = tf.linspace(0, 10, 5) # error : type error\n",
    "\n",
    "v2 = tf.range(0, 10, 2)\n",
    "v3 = tf.fill([3,2], 5)"
   ]
  },
  {
   "cell_type": "code",
   "execution_count": 37,
   "metadata": {
    "collapsed": false
   },
   "outputs": [
    {
     "name": "stdout",
     "output_type": "stream",
     "text": [
      "[  0.    2.5   5.    7.5  10. ]\n",
      "[0 2 4 6 8]\n",
      "[[5 5]\n",
      " [5 5]\n",
      " [5 5]]\n"
     ]
    }
   ],
   "source": [
    "with tf.Session() as _:\n",
    "    print(v1.eval())\n",
    "    print(v2.eval())\n",
    "    print(v3.eval())"
   ]
  },
  {
   "cell_type": "markdown",
   "metadata": {},
   "source": [
    "# Random"
   ]
  },
  {
   "cell_type": "code",
   "execution_count": 39,
   "metadata": {
    "collapsed": false
   },
   "outputs": [
    {
     "name": "stdout",
     "output_type": "stream",
     "text": [
      "[[ 0.41526711  0.65640853]\n",
      " [ 0.86275865  0.77598978]\n",
      " [ 0.6206108   0.96859151]]\n"
     ]
    }
   ],
   "source": [
    "_x = np.random.uniform(0, 1, [3,2])\n",
    "print(_x)"
   ]
  },
  {
   "cell_type": "markdown",
   "metadata": {},
   "source": [
    "### Jupyter help"
   ]
  },
  {
   "cell_type": "code",
   "execution_count": 40,
   "metadata": {
    "collapsed": true
   },
   "outputs": [],
   "source": [
    "np.random.uniform?"
   ]
  },
  {
   "cell_type": "code",
   "execution_count": 41,
   "metadata": {
    "collapsed": false
   },
   "outputs": [
    {
     "data": {
      "text/plain": [
       "array([[-0.73970858, -0.08029971],\n",
       "       [-0.94494442, -1.18914113],\n",
       "       [ 0.96488233,  2.02769975]])"
      ]
     },
     "execution_count": 41,
     "metadata": {},
     "output_type": "execute_result"
    }
   ],
   "source": [
    "np.random.normal(0, 1, [3,2])"
   ]
  },
  {
   "cell_type": "code",
   "execution_count": 42,
   "metadata": {
    "collapsed": true
   },
   "outputs": [],
   "source": [
    "x1 = tf.random_uniform([3,2], 0, 1)\n",
    "x2 = tf.random_normal([3,2],0, 1)"
   ]
  },
  {
   "cell_type": "code",
   "execution_count": 44,
   "metadata": {
    "collapsed": false
   },
   "outputs": [
    {
     "name": "stdout",
     "output_type": "stream",
     "text": [
      "[[ 0.27832341  0.26609826]\n",
      " [ 0.63762224  0.7535435 ]\n",
      " [ 0.19322598  0.64275217]]\n",
      "[[ 0.2721779   0.59077054]\n",
      " [ 0.02874213  0.07004149]\n",
      " [-0.51612157 -0.47622034]]\n"
     ]
    }
   ],
   "source": [
    "with tf.Session() as _:\n",
    "    print(x1.eval())\n",
    "    print(x2.eval())"
   ]
  }
 ],
 "metadata": {
  "kernelspec": {
   "display_name": "Python 3",
   "language": "python",
   "name": "python3"
  },
  "language_info": {
   "codemirror_mode": {
    "name": "ipython",
    "version": 3
   },
   "file_extension": ".py",
   "mimetype": "text/x-python",
   "name": "python",
   "nbconvert_exporter": "python",
   "pygments_lexer": "ipython3",
   "version": "3.6.0"
  }
 },
 "nbformat": 4,
 "nbformat_minor": 2
}
